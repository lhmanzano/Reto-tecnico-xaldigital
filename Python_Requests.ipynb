{
  "nbformat": 4,
  "nbformat_minor": 0,
  "metadata": {
    "colab": {
      "name": "Python Requests.ipynb",
      "provenance": [],
      "authorship_tag": "ABX9TyMqHngZbttFPO++mnvdAdic",
      "include_colab_link": true
    },
    "kernelspec": {
      "name": "python3",
      "display_name": "Python 3"
    },
    "language_info": {
      "name": "python"
    }
  },
  "cells": [
    {
      "cell_type": "markdown",
      "metadata": {
        "id": "view-in-github",
        "colab_type": "text"
      },
      "source": [
        "<a href=\"https://colab.research.google.com/github/lhmanzano/Reto-tecnico-xaldigital/blob/main/Python_Requests.ipynb\" target=\"_parent\"><img src=\"https://colab.research.google.com/assets/colab-badge.svg\" alt=\"Open In Colab\"/></a>"
      ]
    },
    {
      "cell_type": "code",
      "execution_count": 1,
      "metadata": {
        "id": "OpSj05igPu85"
      },
      "outputs": [],
      "source": [
        "import pandas as pd\n",
        "import requests\n",
        "import json\n",
        "import datetime"
      ]
    },
    {
      "cell_type": "code",
      "source": [
        "url = 'https://api.stackexchange.com/2.2/search?order=desc&sort=activity&intitle=perl&site=stackoverflow'\n",
        "\n",
        "response = requests.get(url)"
      ],
      "metadata": {
        "id": "U-oIcNkbQei5"
      },
      "execution_count": 3,
      "outputs": []
    },
    {
      "cell_type": "code",
      "source": [
        "data = json.loads(response.text)\n",
        "data2 = data['items']\n",
        "data2"
      ],
      "metadata": {
        "id": "_A1IEFvtRqZk"
      },
      "execution_count": null,
      "outputs": []
    },
    {
      "cell_type": "code",
      "source": [
        "Contestadas=0\n",
        "for item in data2:\n",
        "  if item['is_answered'] == True:\n",
        "    Contestadas = Contestadas+1\n",
        "print(\"Numero de respuestas contestadas: \",Contestadas)"
      ],
      "metadata": {
        "colab": {
          "base_uri": "https://localhost:8080/"
        },
        "id": "MxwqE4VnR1nc",
        "outputId": "32472452-0d0f-4fdb-805d-0386d0ecf4ba"
      },
      "execution_count": 17,
      "outputs": [
        {
          "output_type": "stream",
          "name": "stdout",
          "text": [
            "Numero de respuestas contestadas:  24\n"
          ]
        }
      ]
    },
    {
      "cell_type": "code",
      "source": [
        "NoContestadas=0\n",
        "for item in data2:\n",
        "  if item['is_answered'] == False:\n",
        "    NoContestadas = NoContestadas+1\n",
        "print(\"Numero de respuestas no contestadas: \",NoContestadas)"
      ],
      "metadata": {
        "colab": {
          "base_uri": "https://localhost:8080/"
        },
        "id": "-G5k4gTrR5mV",
        "outputId": "6e172b29-324d-4cbb-fc61-635448687ceb"
      },
      "execution_count": 19,
      "outputs": [
        {
          "output_type": "stream",
          "name": "stdout",
          "text": [
            "Numero de respuestas no contestadas:  6\n"
          ]
        }
      ]
    },
    {
      "cell_type": "code",
      "source": [
        "Vistas = None\n",
        "for item in data2:\n",
        "  if Vistas is None or item ['view_count'] < Vistas:\n",
        "    Vistas = item ['view_count']\n",
        "print(\"La respuesta con menor numero de vistas fue la que tuvo \",Vistas,\" Vistas\")"
      ],
      "metadata": {
        "colab": {
          "base_uri": "https://localhost:8080/"
        },
        "id": "n_GOZ-gcSLAs",
        "outputId": "8b4b2a77-3953-4026-f165-8ecbfc35faab"
      },
      "execution_count": 22,
      "outputs": [
        {
          "output_type": "stream",
          "name": "stdout",
          "text": [
            "La respuesta con menor numero de vistas fue la que tuvo  30  Vistas\n"
          ]
        }
      ]
    },
    {
      "cell_type": "code",
      "source": [
        "FechaVieja = None\n",
        "for item in data2:\n",
        "  if FechaVieja is None or datetime.datetime.fromtimestamp(item['creation_date']) < FechaVieja:\n",
        "    FechaVieja = datetime.datetime.fromtimestamp(item['creation_date'])\n",
        "print(\"La respuesta mas vieja fue en la fecha: \", FechaVieja)"
      ],
      "metadata": {
        "colab": {
          "base_uri": "https://localhost:8080/"
        },
        "id": "Uw8FeXK6SSlc",
        "outputId": "1efbd4a5-4783-4756-e228-e5df083b4f18"
      },
      "execution_count": 24,
      "outputs": [
        {
          "output_type": "stream",
          "name": "stdout",
          "text": [
            "La respuesta mas vieja fue en la fecha:  2008-12-23 20:11:08\n"
          ]
        }
      ]
    },
    {
      "cell_type": "code",
      "source": [
        "FechaActual = None\n",
        "for item in data2:\n",
        "  if FechaActual is None or datetime.datetime.fromtimestamp(item['creation_date']) > FechaActual:\n",
        "    FechaActual = datetime.datetime.fromtimestamp(item['creation_date'])\n",
        "print(\"La respuesta mas actual fue en la fecha: \", FechaActual)"
      ],
      "metadata": {
        "colab": {
          "base_uri": "https://localhost:8080/"
        },
        "id": "THkXqN2lS0gV",
        "outputId": "00e87bea-1bdd-4fd3-ac0c-dc1d779eb8d5"
      },
      "execution_count": 25,
      "outputs": [
        {
          "output_type": "stream",
          "name": "stdout",
          "text": [
            "La respuesta mas actual fue en la fecha:  2022-05-04 06:24:09\n"
          ]
        }
      ]
    },
    {
      "cell_type": "code",
      "source": [
        "reputacion = 0\n",
        "for item in data2:\n",
        "  repu = item['owner']\n",
        "  rate = repu.get('reputation')\n",
        "  if type(rate) == int:\n",
        "    if rate > reputacion:\n",
        "      reputacion = rate\n",
        "  else:\n",
        "    continue\n",
        "print(\"La respuesta con la mayor reputacion fue la que obtuvo: \", reputacion)"
      ],
      "metadata": {
        "colab": {
          "base_uri": "https://localhost:8080/"
        },
        "id": "8pmjnN12Tu7a",
        "outputId": "f49f9aa2-8de1-4771-de5b-a7c1b2e1226e"
      },
      "execution_count": 27,
      "outputs": [
        {
          "output_type": "stream",
          "name": "stdout",
          "text": [
            "La respuesta con la mayor reputacion fue la que obtuvo:  89206\n"
          ]
        }
      ]
    }
  ]
}